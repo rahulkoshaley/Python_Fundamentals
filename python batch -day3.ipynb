{
 "cells": [
  {
   "cell_type": "code",
   "execution_count": 1,
   "metadata": {},
   "outputs": [
    {
     "data": {
      "text/plain": [
       "8"
      ]
     },
     "execution_count": 1,
     "metadata": {},
     "output_type": "execute_result"
    }
   ],
   "source": [
    "x=5\n",
    "y=3\n",
    "x+y"
   ]
  },
  {
   "cell_type": "code",
   "execution_count": null,
   "metadata": {},
   "outputs": [],
   "source": [
    "#variables are placeholder for a value\n"
   ]
  },
  {
   "cell_type": "code",
   "execution_count": null,
   "metadata": {},
   "outputs": [],
   "source": [
    "#is a case sensitive language, three rules to define a variables are\n",
    "# 1. no spaces within name\n",
    "\n",
    "variable name = 'rahul'  #syntax error"
   ]
  },
  {
   "cell_type": "code",
   "execution_count": null,
   "metadata": {},
   "outputs": [],
   "source": [
    "#2.variables name must not start with a number\n",
    "\n",
    "1name = 'rahul' #syntax error"
   ]
  },
  {
   "cell_type": "code",
   "execution_count": null,
   "metadata": {},
   "outputs": [],
   "source": [
    "#3. variables should have no special characters\n",
    "\n",
    "name@is = 'rahul' #syntax error"
   ]
  },
  {
   "cell_type": "code",
   "execution_count": null,
   "metadata": {},
   "outputs": [],
   "source": [
    "\n",
    "\n"
   ]
  },
  {
   "cell_type": "code",
   "execution_count": null,
   "metadata": {},
   "outputs": [],
   "source": [
    "#Data Types\n",
    "\n",
    "#String , List , Tuple, Disctionary\n",
    "\n",
    "#Data Types are of two kinds\n",
    "\n",
    "#mutable ---> can edit, alter , modify once declared\n",
    "#immutable ---> can not edit, alter , modify once declared\n",
    "\n"
   ]
  },
  {
   "cell_type": "code",
   "execution_count": null,
   "metadata": {},
   "outputs": [],
   "source": []
  },
  {
   "cell_type": "code",
   "execution_count": null,
   "metadata": {},
   "outputs": [],
   "source": [
    "#1. StringsThree ways of declaring a strings\n",
    "\n",
    "#a. between ' ' eg 'rahul'\n",
    "#b. between \" \"  eg \"rahul\"\n",
    "#c  between \"\"\" \"\"\" eg \"\"\"rahul\"\"\"\n",
    "\n",
    "#note - > Its a matter of choice than a rule"
   ]
  },
  {
   "cell_type": "code",
   "execution_count": null,
   "metadata": {},
   "outputs": [],
   "source": []
  },
  {
   "cell_type": "code",
   "execution_count": null,
   "metadata": {},
   "outputs": [],
   "source": []
  },
  {
   "cell_type": "code",
   "execution_count": 2,
   "metadata": {},
   "outputs": [
    {
     "data": {
      "text/plain": [
       "str"
      ]
     },
     "execution_count": 2,
     "metadata": {},
     "output_type": "execute_result"
    }
   ],
   "source": [
    " #How to veryfy what kind of a data type a veriable is ?\n",
    "    \n",
    "    #Ans - > we do it using \"type\" method\n",
    "    \n",
    "    #eg\n",
    "    \n",
    "name = 'rahul'    \n",
    "type(name)\n",
    "\n",
    "# output = str (the typee for string)\n"
   ]
  },
  {
   "cell_type": "code",
   "execution_count": 4,
   "metadata": {},
   "outputs": [
    {
     "name": "stdout",
     "output_type": "stream",
     "text": [
      "Rahul\n",
      "RAHUL\n"
     ]
    }
   ],
   "source": [
    "# String Methods\n",
    "\n",
    "# 1. To convert the first letter of a string to capital , we use \"title case method\"\n",
    "\n",
    "#eg\n",
    "\n",
    "name = 'rahul'\n",
    "\n",
    "print(name.title())\n",
    "\n",
    "#Output = Rahul\n",
    "\n",
    "# 2. To conver all the character of a string to capital , we use \"upper method\"\n",
    "\n",
    "#eg\n",
    "\n",
    "print(name.upper())\n",
    "\n",
    "#Output = RAHUL\n",
    "\n",
    "# 3. To conver all the character of a string to small , we use \"lower method\"\n",
    "\n",
    "#eg\n",
    "\n",
    "print(name.lower())\n",
    "\n",
    "#Output = rahul"
   ]
  },
  {
   "cell_type": "code",
   "execution_count": null,
   "metadata": {},
   "outputs": [],
   "source": []
  }
 ],
 "metadata": {
  "kernelspec": {
   "display_name": "Python 3",
   "language": "python",
   "name": "python3"
  },
  "language_info": {
   "codemirror_mode": {
    "name": "ipython",
    "version": 3
   },
   "file_extension": ".py",
   "mimetype": "text/x-python",
   "name": "python",
   "nbconvert_exporter": "python",
   "pygments_lexer": "ipython3",
   "version": "3.6.9"
  }
 },
 "nbformat": 4,
 "nbformat_minor": 4
}
