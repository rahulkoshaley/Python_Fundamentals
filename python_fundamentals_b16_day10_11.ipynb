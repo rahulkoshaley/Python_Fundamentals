{
 "cells": [
  {
   "cell_type": "code",
   "execution_count": 5,
   "metadata": {},
   "outputs": [],
   "source": [
    "dictionary = {'username':'rahul' , 'password' :12345 , 'fname' :'rahul' ,'lname' : 'koshaley' , 'dob' : '14-11-1981'}\n",
    "\n",
    "\n"
   ]
  },
  {
   "cell_type": "code",
   "execution_count": 3,
   "metadata": {},
   "outputs": [
    {
     "name": "stdout",
     "output_type": "stream",
     "text": [
      "rahul\n"
     ]
    }
   ],
   "source": [
    "print(dictionary['fname'])"
   ]
  },
  {
   "cell_type": "code",
   "execution_count": 4,
   "metadata": {},
   "outputs": [],
   "source": [
    "del dictionary['lname']"
   ]
  },
  {
   "cell_type": "code",
   "execution_count": 7,
   "metadata": {},
   "outputs": [
    {
     "name": "stdout",
     "output_type": "stream",
     "text": [
      "rahul\n"
     ]
    }
   ],
   "source": [
    "print(dictionary[0]['fname'])"
   ]
  },
  {
   "cell_type": "code",
   "execution_count": 6,
   "metadata": {},
   "outputs": [
    {
     "name": "stdout",
     "output_type": "stream",
     "text": [
      "{'username': 'rahul', 'password': 12345, 'fname': 'rahul', 'lname': 'koshaley', 'dob': '14-11-1981', 'area': 'bandra'}\n"
     ]
    }
   ],
   "source": [
    "dictionary[\"area\"] = 'bandra'\n",
    "print(dictionary)"
   ]
  },
  {
   "cell_type": "code",
   "execution_count": 8,
   "metadata": {},
   "outputs": [
    {
     "name": "stdout",
     "output_type": "stream",
     "text": [
      "username\n",
      "rahul\n",
      "password\n",
      "12345\n",
      "fname\n",
      "rahul\n",
      "lname\n",
      "koshaley\n",
      "dob\n",
      "14-11-1981\n",
      "area\n",
      "bandra\n"
     ]
    }
   ],
   "source": [
    "for x,y in dictionary.items():\n",
    "    print(x)\n",
    "    print(y)"
   ]
  },
  {
   "cell_type": "code",
   "execution_count": null,
   "metadata": {},
   "outputs": [],
   "source": [
    "for x,in dictionary.keys():\n",
    "    print(x)\n",
    "  "
   ]
  },
  {
   "cell_type": "code",
   "execution_count": null,
   "metadata": {},
   "outputs": [],
   "source": [
    "for x in dictionary.values():\n",
    "    print(x)\n",
    "    "
   ]
  },
  {
   "cell_type": "code",
   "execution_count": 11,
   "metadata": {},
   "outputs": [
    {
     "name": "stdout",
     "output_type": "stream",
     "text": [
      "{'rahul': 80, 'kate': 80}\n",
      "80 0 None\n"
     ]
    }
   ],
   "source": [
    "grades = {'rahul' : 80 , 'kate': 80}\n",
    "print(grades)\n",
    "\n",
    "#default values\n",
    "grade1 = grades.get('rahul' ,0)\n",
    "grade2 = grades.get('suveer' ,0)\n",
    "grade3 = grades.get('no one')\n",
    "print( grade1 , grade2 , grade3)\n"
   ]
  },
  {
   "cell_type": "code",
   "execution_count": null,
   "metadata": {},
   "outputs": [],
   "source": []
  }
 ],
 "metadata": {
  "kernelspec": {
   "display_name": "Python 3",
   "language": "python",
   "name": "python3"
  },
  "language_info": {
   "codemirror_mode": {
    "name": "ipython",
    "version": 3
   },
   "file_extension": ".py",
   "mimetype": "text/x-python",
   "name": "python",
   "nbconvert_exporter": "python",
   "pygments_lexer": "ipython3",
   "version": "3.6.9"
  }
 },
 "nbformat": 4,
 "nbformat_minor": 4
}
