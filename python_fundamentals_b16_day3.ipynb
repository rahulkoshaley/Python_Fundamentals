{
 "cells": [
  {
   "cell_type": "code",
   "execution_count": 1,
   "metadata": {},
   "outputs": [
    {
     "name": "stdout",
     "output_type": "stream",
     "text": [
      "\tpython\n"
     ]
    }
   ],
   "source": [
    "print('\\tpython')"
   ]
  },
  {
   "cell_type": "code",
   "execution_count": 2,
   "metadata": {},
   "outputs": [
    {
     "name": "stdout",
     "output_type": "stream",
     "text": [
      "Languages:\n",
      "python\n",
      "java\n",
      "swift\n",
      "ruby\n"
     ]
    }
   ],
   "source": [
    "print('Languages:\\npython\\njava\\nswift\\nruby')"
   ]
  },
  {
   "cell_type": "code",
   "execution_count": 3,
   "metadata": {},
   "outputs": [
    {
     "name": "stdout",
     "output_type": "stream",
     "text": [
      "Languages: \n",
      "python\n",
      "\tjava\n",
      "\tswift\n",
      "\truby\n"
     ]
    }
   ],
   "source": [
    "print('Languages: \\npython\\n\\tjava\\n\\tswift\\n\\truby')"
   ]
  },
  {
   "cell_type": "code",
   "execution_count": 4,
   "metadata": {},
   "outputs": [
    {
     "name": "stdout",
     "output_type": "stream",
     "text": [
      "Languages: \n",
      "\tpython\n",
      "\tjava\n",
      "\tswift\n",
      "\truby\n"
     ]
    }
   ],
   "source": [
    "print('Languages: \\n\\tpython\\n\\tjava\\n\\tswift\\n\\truby')"
   ]
  },
  {
   "cell_type": "code",
   "execution_count": 5,
   "metadata": {},
   "outputs": [
    {
     "name": "stdout",
     "output_type": "stream",
     "text": [
      "python \n",
      " java\n"
     ]
    }
   ],
   "source": [
    "fav_lang = 'python '  #rightside space\n",
    "\n",
    "fav_lang2= \" java\" #leftside space\n",
    "\n",
    "print(fav_lang)\n",
    "print(fav_lang2)"
   ]
  },
  {
   "cell_type": "code",
   "execution_count": 13,
   "metadata": {},
   "outputs": [
    {
     "name": "stdout",
     "output_type": "stream",
     "text": [
      "my name is , rahul koshaley \n",
      "My Name Is , Rahul Koshaley \n"
     ]
    }
   ],
   "source": [
    "#placeholder\n",
    "#syntax\n",
    "\n",
    "# f\"{placeholder1} {placeholder2}\"\n",
    "\n",
    "name1= 'rahul'\n",
    "name2= 'koshaley'\n",
    "\n",
    "message = f\"my name is , {name1} {name2} \"\n",
    "\n",
    "print(message)\n",
    "\n",
    "print(message.title())"
   ]
  },
  {
   "cell_type": "code",
   "execution_count": null,
   "metadata": {},
   "outputs": [],
   "source": []
  }
 ],
 "metadata": {
  "kernelspec": {
   "display_name": "Python 3",
   "language": "python",
   "name": "python3"
  },
  "language_info": {
   "codemirror_mode": {
    "name": "ipython",
    "version": 3
   },
   "file_extension": ".py",
   "mimetype": "text/x-python",
   "name": "python",
   "nbconvert_exporter": "python",
   "pygments_lexer": "ipython3",
   "version": "3.6.9"
  }
 },
 "nbformat": 4,
 "nbformat_minor": 4
}
