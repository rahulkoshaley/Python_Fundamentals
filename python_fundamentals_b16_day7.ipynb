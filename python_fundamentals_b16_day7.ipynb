{
 "cells": [
  {
   "cell_type": "code",
   "execution_count": 3,
   "metadata": {},
   "outputs": [
    {
     "name": "stdout",
     "output_type": "stream",
     "text": [
      "BMW\n",
      "Maruti\n",
      "Toyota\n",
      "Tata\n",
      "Audi\n"
     ]
    }
   ],
   "source": [
    "cars = ['bmw' ,'maruti','toyota','tata' , 'audi']\n",
    "for car in cars:\n",
    "    if(car=='bmw'):\n",
    "        print(car.upper())\n",
    "    else:\n",
    "        print(car.title())"
   ]
  },
  {
   "cell_type": "code",
   "execution_count": 5,
   "metadata": {},
   "outputs": [
    {
     "name": "stdout",
     "output_type": "stream",
     "text": [
      "tell me your namerahul\n",
      "repeat rahul\n",
      "rahul\n"
     ]
    }
   ],
   "source": [
    "message = input('tell me your name')\n",
    "print('repeat' , message)\n",
    "print(message)"
   ]
  },
  {
   "cell_type": "code",
   "execution_count": 10,
   "metadata": {},
   "outputs": [
    {
     "name": "stdout",
     "output_type": "stream",
     "text": [
      "whats ur namerahul\n",
      "\n",
      " name is  rahul\n"
     ]
    }
   ],
   "source": [
    "name = input('whats ur name')\n",
    "print(f\"\\n name is  {name}\")"
   ]
  },
  {
   "cell_type": "code",
   "execution_count": 14,
   "metadata": {},
   "outputs": [
    {
     "name": "stdout",
     "output_type": "stream",
     "text": [
      "enter ur height5\n",
      "5\n",
      "ur elegible\n"
     ]
    }
   ],
   "source": [
    "height= input(\"enter ur height\")\n",
    "height=int(height)\n",
    "print(height)\n",
    "if(height >= 5): #error as its a string by default\n",
    "    print(\"ur elegible\")\n",
    "else:\n",
    "    print(\"ur not eligible\")"
   ]
  },
  {
   "cell_type": "code",
   "execution_count": 15,
   "metadata": {},
   "outputs": [
    {
     "name": "stdout",
     "output_type": "stream",
     "text": [
      "how old are you ?19\n",
      "ur allowed to vote\n"
     ]
    }
   ],
   "source": [
    "age=input('how old are you ?')\n",
    "age=int(age)\n",
    "if(age>=18):\n",
    "    print(\"ur allowed to vote\")\n",
    "else:\n",
    "    print(\"ur not allowed to vote\")"
   ]
  },
  {
   "cell_type": "code",
   "execution_count": null,
   "metadata": {},
   "outputs": [],
   "source": []
  }
 ],
 "metadata": {
  "kernelspec": {
   "display_name": "Python 3",
   "language": "python",
   "name": "python3"
  },
  "language_info": {
   "codemirror_mode": {
    "name": "ipython",
    "version": 3
   },
   "file_extension": ".py",
   "mimetype": "text/x-python",
   "name": "python",
   "nbconvert_exporter": "python",
   "pygments_lexer": "ipython3",
   "version": "3.6.9"
  }
 },
 "nbformat": 4,
 "nbformat_minor": 4
}
