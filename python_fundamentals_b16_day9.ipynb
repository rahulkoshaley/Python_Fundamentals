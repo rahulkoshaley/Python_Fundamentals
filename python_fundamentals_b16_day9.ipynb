{
 "cells": [
  {
   "cell_type": "code",
   "execution_count": 1,
   "metadata": {},
   "outputs": [
    {
     "name": "stdout",
     "output_type": "stream",
     "text": [
      "['pizza', 'cake', 'juice', 'chocolate']\n"
     ]
    }
   ],
   "source": [
    "food = ['pizza','cake','juice','chocolate']\n",
    "friend_food = food[:]\n",
    "print(friend_food)"
   ]
  },
  {
   "cell_type": "code",
   "execution_count": 2,
   "metadata": {},
   "outputs": [
    {
     "name": "stdout",
     "output_type": "stream",
     "text": [
      "['pizza', 'cake', 'juice', 'chocolate', 'pepsi']\n",
      "['pizza', 'cake', 'juice', 'chocolate', 'fruit']\n"
     ]
    }
   ],
   "source": [
    "food.append('pepsi')\n",
    "friend_food.append('fruit')\n",
    "\n",
    "print(food)\n",
    "print(friend_food)"
   ]
  },
  {
   "cell_type": "code",
   "execution_count": 6,
   "metadata": {},
   "outputs": [
    {
     "name": "stdout",
     "output_type": "stream",
     "text": [
      "[1, 16, 81, 256, 625, 1296, 2401, 4096, 6561, 10000]\n"
     ]
    }
   ],
   "source": [
    "squares = []\n",
    "for x in range(1,11):\n",
    "    squares.append(x**4)\n",
    "print(squares)"
   ]
  },
  {
   "cell_type": "code",
   "execution_count": 7,
   "metadata": {},
   "outputs": [
    {
     "name": "stdout",
     "output_type": "stream",
     "text": [
      "[1, 4, 9, 16, 25, 36, 49, 64, 81, 100]\n"
     ]
    }
   ],
   "source": [
    "squares=[x**2 for x in range(1,11)]\n",
    "print(squares)"
   ]
  },
  {
   "cell_type": "code",
   "execution_count": 8,
   "metadata": {},
   "outputs": [
    {
     "name": "stdout",
     "output_type": "stream",
     "text": [
      "(250, 50, 30)\n"
     ]
    }
   ],
   "source": [
    "dimensions = (250,50,30)\n",
    "print(dimensions)"
   ]
  },
  {
   "cell_type": "code",
   "execution_count": 11,
   "metadata": {},
   "outputs": [
    {
     "name": "stdout",
     "output_type": "stream",
     "text": [
      "(200, 50, 30)\n"
     ]
    }
   ],
   "source": [
    "#dimensions[0] = 200 #error as cant change value\n",
    "dimensions = (200,50,30) #old tuple gets destroyed n new tuple is created\n",
    "print(dimensions)"
   ]
  },
  {
   "cell_type": "code",
   "execution_count": 12,
   "metadata": {},
   "outputs": [
    {
     "name": "stdout",
     "output_type": "stream",
     "text": [
      "200\n",
      "50\n",
      "30\n"
     ]
    }
   ],
   "source": [
    "for x in dimensions:\n",
    "    print(x)"
   ]
  },
  {
   "cell_type": "code",
   "execution_count": null,
   "metadata": {},
   "outputs": [],
   "source": [
    "list1 = [1,2,3]\n",
    "list5 = [4,5,6]\n",
    "tuple2 = (list1,list5)\n",
    "print(tuple2)\n",
    "\n",
    "print(tuple2[1][0])\n",
    "\n",
    "tuple2[0][0] = 9 # its allowed2\n",
    "\n",
    "tuple2 = (list5) #fine\n",
    "\n",
    "tuple2 = (8,9,10) #fine\n",
    "\n",
    "tuple[0] = [9,10,11] #error as im changing the index value , not allowed in tuple\n",
    "\n",
    "print(tuple2[0]) \n",
    "\n",
    "tuple2 = (list1,list5) #allowed , as im demolishing and creating a new tuple\n",
    "\n",
    "print(tuple2[0][0]) "
   ]
  }
 ],
 "metadata": {
  "kernelspec": {
   "display_name": "Python 3",
   "language": "python",
   "name": "python3"
  },
  "language_info": {
   "codemirror_mode": {
    "name": "ipython",
    "version": 3
   },
   "file_extension": ".py",
   "mimetype": "text/x-python",
   "name": "python",
   "nbconvert_exporter": "python",
   "pygments_lexer": "ipython3",
   "version": "3.6.9"
  }
 },
 "nbformat": 4,
 "nbformat_minor": 4
}
