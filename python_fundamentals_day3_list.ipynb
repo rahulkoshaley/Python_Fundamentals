{
 "cells": [
  {
   "cell_type": "code",
   "execution_count": 9,
   "metadata": {},
   "outputs": [
    {
     "name": "stdout",
     "output_type": "stream",
     "text": [
      "['rahul', 'yogesh', 'rahulk', 'praj', 'mandar']\n",
      "<class 'list'>\n",
      "rahulk\n",
      "rahulk\n"
     ]
    },
    {
     "data": {
      "text/plain": [
       "str"
      ]
     },
     "execution_count": 9,
     "metadata": {},
     "output_type": "execute_result"
    }
   ],
   "source": [
    "#2nd datatype is list\n",
    "#what is a list\n",
    "# List is a ordered colection of values  (values can be anything)\n",
    "\n",
    "list1 = [\"rahul\",'yogesh','rahulk','praj','mandar']\n",
    "print(list1)\n",
    "\n",
    "print(type(list1))\n",
    "#Indexes\n",
    "\n",
    "#ina list indexses start from 0\n",
    "\n",
    "print(list1[2])\n",
    "variable1= list1[2]\n",
    "print(variable1)\n",
    "type(list1[3])"
   ]
  },
  {
   "cell_type": "code",
   "execution_count": 10,
   "metadata": {},
   "outputs": [
    {
     "name": "stdout",
     "output_type": "stream",
     "text": [
      "['rahul', 'rajput', 'rahulk', 'praj', 'mandar']\n"
     ]
    }
   ],
   "source": [
    "list1[1] = \"rajput\"\n",
    "\n",
    "print(list1)"
   ]
  },
  {
   "cell_type": "code",
   "execution_count": 33,
   "metadata": {},
   "outputs": [
    {
     "name": "stdout",
     "output_type": "stream",
     "text": [
      "['rahul', 'yogesh', 'praj', 'pardeshi', 10]\n"
     ]
    }
   ],
   "source": [
    "list1.append('pardeshi')\n",
    "list1.append(10)\n",
    "print(list1)"
   ]
  },
  {
   "cell_type": "code",
   "execution_count": 12,
   "metadata": {},
   "outputs": [
    {
     "name": "stdout",
     "output_type": "stream",
     "text": [
      "['rahul', 'rajput', 'rahulk', 'kanade', 'praj', 'mandar', 'pardeshi']\n"
     ]
    }
   ],
   "source": [
    "list1.insert(3,'kanade')\n",
    "print(list1)"
   ]
  },
  {
   "cell_type": "code",
   "execution_count": 15,
   "metadata": {},
   "outputs": [
    {
     "name": "stdout",
     "output_type": "stream",
     "text": [
      "['rajput', 'kanade', 'praj', 'pardeshi']\n"
     ]
    }
   ],
   "source": [
    "#del list1[3] #explain it later in depth\n",
    "\n",
    "#print(list1)"
   ]
  },
  {
   "cell_type": "code",
   "execution_count": 18,
   "metadata": {},
   "outputs": [
    {
     "name": "stdout",
     "output_type": "stream",
     "text": [
      "['rahul', 'yogesh', 'rahulk', 'praj']\n"
     ]
    }
   ],
   "source": [
    "#pop\n",
    "list1 = [\"rahul\",'yogesh','rahulk','praj','mandar']\n",
    "\n",
    "list1.pop()\n",
    "print(list1)"
   ]
  },
  {
   "cell_type": "code",
   "execution_count": 19,
   "metadata": {},
   "outputs": [
    {
     "name": "stdout",
     "output_type": "stream",
     "text": [
      "['rahul', 'yogesh', 'praj']\n"
     ]
    }
   ],
   "source": [
    "list1.pop(2)\n",
    "print(list1)\n",
    "\n",
    "#pop doesnt permentially delete the value from the list , it stores it as a charbon copy"
   ]
  },
  {
   "cell_type": "code",
   "execution_count": 37,
   "metadata": {},
   "outputs": [
    {
     "name": "stdout",
     "output_type": "stream",
     "text": [
      "b\n"
     ]
    }
   ],
   "source": [
    "list2 = ['a','b']\n",
    "list3 = ['c','d']\n",
    "list4 = [ 'e' , 'f']\n",
    "\n",
    "#list of list\n",
    "\n",
    "list4 = [list2,list3,list4]\n",
    "\n",
    "#print(list4)\n",
    "\n",
    "print(list4[0][1])"
   ]
  },
  {
   "cell_type": "code",
   "execution_count": 28,
   "metadata": {},
   "outputs": [
    {
     "name": "stdout",
     "output_type": "stream",
     "text": [
      "['rahul', 'yogesh']\n",
      "['praj', 'baghel']\n",
      "baghel\n"
     ]
    },
    {
     "data": {
      "text/plain": [
       "str"
      ]
     },
     "execution_count": 28,
     "metadata": {},
     "output_type": "execute_result"
    }
   ],
   "source": [
    "list5 = [\"rahul\",\"yogesh\"]\n",
    "print(list5)\n",
    "#reassigning the variable , this is true for any typee of variable\n",
    "list5 =['praj','baghel']\n",
    "print(list5)\n",
    "\n",
    "var1 = list5[1]\n",
    "print(var1)\n",
    "type(var1)\n",
    "\n"
   ]
  },
  {
   "cell_type": "code",
   "execution_count": 27,
   "metadata": {},
   "outputs": [
    {
     "name": "stdout",
     "output_type": "stream",
     "text": [
      "[]\n"
     ]
    }
   ],
   "source": [
    "list5.clear()\n",
    "print(list5)"
   ]
  },
  {
   "cell_type": "code",
   "execution_count": null,
   "metadata": {},
   "outputs": [],
   "source": [
    "list10 = [1 , 'rahulk' , 3 , 'praj' , 3.3]\n",
    "\n",
    "print(list10)\n",
    "print(list10[0])\n",
    "type(list10[0])\n",
    "type(list10[4])"
   ]
  },
  {
   "cell_type": "code",
   "execution_count": 38,
   "metadata": {},
   "outputs": [
    {
     "name": "stdout",
     "output_type": "stream",
     "text": [
      "['a', 'b', 'c', 'd']\n"
     ]
    }
   ],
   "source": [
    "print(list2+list3) #concat\n",
    "\n"
   ]
  },
  {
   "cell_type": "code",
   "execution_count": 41,
   "metadata": {},
   "outputs": [
    {
     "name": "stdout",
     "output_type": "stream",
     "text": [
      "['b']\n"
     ]
    }
   ],
   "source": [
    "list2=['a','b']\n",
    "list2.remove('a') #remove by value\n",
    "print(list2)"
   ]
  },
  {
   "cell_type": "code",
   "execution_count": null,
   "metadata": {},
   "outputs": [],
   "source": []
  },
  {
   "cell_type": "code",
   "execution_count": null,
   "metadata": {},
   "outputs": [],
   "source": []
  },
  {
   "cell_type": "code",
   "execution_count": null,
   "metadata": {},
   "outputs": [],
   "source": []
  },
  {
   "cell_type": "code",
   "execution_count": null,
   "metadata": {},
   "outputs": [],
   "source": []
  },
  {
   "cell_type": "code",
   "execution_count": null,
   "metadata": {},
   "outputs": [],
   "source": []
  },
  {
   "cell_type": "code",
   "execution_count": null,
   "metadata": {},
   "outputs": [],
   "source": []
  },
  {
   "cell_type": "code",
   "execution_count": null,
   "metadata": {},
   "outputs": [],
   "source": []
  }
 ],
 "metadata": {
  "kernelspec": {
   "display_name": "Python 3",
   "language": "python",
   "name": "python3"
  },
  "language_info": {
   "codemirror_mode": {
    "name": "ipython",
    "version": 3
   },
   "file_extension": ".py",
   "mimetype": "text/x-python",
   "name": "python",
   "nbconvert_exporter": "python",
   "pygments_lexer": "ipython3",
   "version": "3.6.9"
  }
 },
 "nbformat": 4,
 "nbformat_minor": 4
}
